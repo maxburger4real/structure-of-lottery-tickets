{
 "cells": [
  {
   "cell_type": "code",
   "execution_count": null,
   "metadata": {},
   "outputs": [],
   "source": [
    "import wandb\n",
    "import numpy as np\n",
    "import pandas as pd\n",
    "import matplotlib.pyplot as plt\n",
    "\n",
    "api = wandb.Api(timeout=60)"
   ]
  },
  {
   "cell_type": "code",
   "execution_count": null,
   "metadata": {},
   "outputs": [],
   "source": [
    "# shape 4,8,8,2, extension from 0 to 20 levels\n",
    "sweep_ids=['wpcowdl5', 'j9lvvxjg', 'a5kr3muw', 'iat6x9bh']\n",
    "untapped_potential = 'untapped-potential'\n",
    "_active_weights_abs = \"active-weights-abs\"\n",
    "_pparams = \"pparams\"\n",
    "_untapped_potential = 'untapped-potential'\n",
    "\n",
    "# with shape 4,4,4,4,2\n",
    "if True:\n",
    "    #sweep_ids=['t1mp5nhi', 'c3gin27l', '82wq0l59', 'vk3ftk2q','vpqib95x'] # 3 hidden layers\n",
    "    sweep_ids=['f9zju9yb', '01ayiisq']  # one hidden layer\n",
    "    _pparams = \"meta/\" + _pparams\n",
    "    _untapped_potential = 'graph/' + _untapped_potential\n",
    "    _active_weights_abs = \"graph/\" + _active_weights_abs\n",
    "\n",
    "runs = []\n",
    "for sweep_id in sweep_ids:\n",
    "    runs += [run for run in api.sweep('concat_moons/' + sweep_id).runs]\n",
    "\n",
    "#histories = [run.history() for run in runs]\n",
    "configs = [run.config for run in runs]"
   ]
  },
  {
   "cell_type": "code",
   "execution_count": null,
   "metadata": {},
   "outputs": [],
   "source": [
    "# single layer. network has 4, 20, 2 base shape\n",
    "t1 = [26550,18054,12276,8346,5676,3858,2622,1782,1212,828,564,384,258,174,120]\n",
    "\n",
    "# two layer. network has 4, 8, 8, 2 base shape\n",
    "t2 = [170560,115591,78952,53815,36472,24640,16891,11440,7735,5320,3591,2491,1672,1147,775,520,352,247,160,112]\n",
    "\n",
    "# three layer. 4, 4, 4, 4, 2 base shape\n",
    "t3 = [26676,18236,12320,8316,5720,3956,2660,1856,1196,836,540,360,260,176,108,80,56]\n",
    "\n",
    "pd.DataFrame.from_dict({'t1': reversed(t1), 't2': reversed(t2), 't3':reversed(t3)},orient='index').T"
   ]
  },
  {
   "cell_type": "code",
   "execution_count": null,
   "metadata": {},
   "outputs": [],
   "source": [
    "shapes, level, pparams = [], [], []\n",
    "for c in configs:\n",
    "    shapes.append(c['model_shape'][1])\n",
    "    level.append(c['extension_levels'])\n",
    "    pparams.append(c['param_trajectory'][0])\n",
    "pd.DataFrame({\n",
    "    'shape' : shapes,\n",
    "    'level': level,\n",
    "    'pparams':pparams\n",
    "}).sort_values('level').drop_duplicates().reset_index(drop=True).drop('level', axis=1).to_csv('1layer.csv')"
   ]
  },
  {
   "cell_type": "code",
   "execution_count": null,
   "metadata": {},
   "outputs": [],
   "source": [
    "l1 = pd.read_csv('1layer.csv').rename(columns={'shape':'layer-1-shape', 'pparams': 'layer-1-prunable-parameters'})\n",
    "l2 = pd.read_csv('2layer.csv').rename(columns={'shape':'layer-2-shape', 'pparams': 'layer-2-prunable-parameters'})\n",
    "l3 = pd.read_csv('3layer.csv').rename(columns={'shape':'layer-3-shape', 'pparams': 'layer-3-prunable-parameters'})"
   ]
  },
  {
   "cell_type": "code",
   "execution_count": null,
   "metadata": {},
   "outputs": [],
   "source": [
    "pd.merge(l1, \n",
    "    pd.merge(l2, l3, on='Unnamed: 0', how='outer'),\n",
    "    on='Unnamed: 0',\n",
    "    how='outer'\n",
    ").drop('Unnamed: 0', axis=1).astype('Int64').to_csv('table.csv')\n"
   ]
  },
  {
   "cell_type": "code",
   "execution_count": null,
   "metadata": {},
   "outputs": [],
   "source": [
    "df = pd.read_csv('table.csv')\n",
    "df['L3-shape'] = df['L3-shape'].shift(-2)\n",
    "df['L3-prunable-params'] = df['L3-prunable-params'].shift(-2)\n",
    "df.at[15, 'L1-shape'] = 6507\n",
    "df.at[16, 'L1-shape'] = 9569\n",
    "df.at[15, 'L1-params'] = 39042\n",
    "df.at[16, 'L1-params'] = 57414\n",
    "\n",
    "\n",
    "df.at[15, 'L3-shape'] = 139\n",
    "df.at[16, 'L3-shape'] = 169\n",
    "df.at[15, 'L3-prunable-params'] = 39476\n",
    "df.at[16, 'L3-prunable-params'] = 58136\n",
    "df = df.astype('Int64')\n",
    "df.columns = ['Lvl', 'shape(1)', 'param(1)', 'shape(2)', 'param(2)', 'shape(3)', 'param(3)']\n",
    "df.to_latex(\n",
    "    's.txt', \n",
    "    index=False,\n",
    "    caption='In this table, the parameter trajectories and the corresponding hidden dimension of the network are displayed for each extension level. Parameter trajectory is in each respective \"param\" column and the number of hidden neurons per hidden layer in the column \"hidden dim\". At the extension level zero, the base model values are displayed.',\n",
    "    label='tab:trajectory',\n",
    ")"
   ]
  }
 ],
 "metadata": {
  "kernelspec": {
   "display_name": "Python 3",
   "language": "python",
   "name": "python3"
  },
  "language_info": {
   "codemirror_mode": {
    "name": "ipython",
    "version": 3
   },
   "file_extension": ".py",
   "mimetype": "text/x-python",
   "name": "python",
   "nbconvert_exporter": "python",
   "pygments_lexer": "ipython3",
   "version": "3.11.0"
  }
 },
 "nbformat": 4,
 "nbformat_minor": 2
}
