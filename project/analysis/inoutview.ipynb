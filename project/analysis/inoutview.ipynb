{
 "cells": [
  {
   "cell_type": "code",
   "execution_count": null,
   "metadata": {},
   "outputs": [],
   "source": [
    "import pandas as pd\n",
    "import matplotlib.pyplot as plt\n"
   ]
  },
  {
   "cell_type": "code",
   "execution_count": null,
   "metadata": {},
   "outputs": [],
   "source": [
    "colors = ['#256EFF', '#75E6B5', '#188B57', '#093421', '#FF495C']\n",
    "\n",
    "df = pd.read_csv('from-outputs.csv', index_col='Step')\n",
    "df = df[df.columns.drop(list(df.filter(regex='MIN')))]\n",
    "df = df[df.columns.drop(list(df.filter(regex='MAX')))]\n",
    "df.columns = ['input-layer', 'hidden-1', 'hidden-2', 'hidden-3']\n",
    "\n",
    "df.plot(marker='o', alpha=0.8, linewidth=4, color=colors[:-1], figsize=(7,3))\n",
    "plt.legend(loc='upper left')\n",
    "plt.ylabel('percentage of neurons')\n",
    "plt.xlabel('pruning level')\n",
    "plt.tight_layout()\n",
    "plt.savefig('output-view.png', bbox_inches='tight')"
   ]
  },
  {
   "cell_type": "code",
   "execution_count": null,
   "metadata": {},
   "outputs": [],
   "source": [
    "df = pd.read_csv('from-inputs.csv', index_col='Step')\n",
    "df = df[df.columns.drop(list(df.filter(regex='MIN')))]\n",
    "df = df[df.columns.drop(list(df.filter(regex='MAX')))]\n",
    "\n",
    "\n",
    "df.columns = ['hidden-1', 'hidden-2', 'hidden-3', 'output-layer']\n",
    "df.plot(marker='o', alpha=0.8, linewidth=4, color=colors[1:], figsize=(7,3))\n",
    "plt.legend()\n",
    "plt.ylabel('percentage of neurons')\n",
    "plt.xlabel('pruning level')\n",
    "plt.tight_layout()\n",
    "plt.savefig('input-view.png', bbox_inches='tight')"
   ]
  },
  {
   "cell_type": "code",
   "execution_count": null,
   "metadata": {},
   "outputs": [],
   "source": []
  }
 ],
 "metadata": {
  "kernelspec": {
   "display_name": "Python 3",
   "language": "python",
   "name": "python3"
  },
  "language_info": {
   "codemirror_mode": {
    "name": "ipython",
    "version": 3
   },
   "file_extension": ".py",
   "mimetype": "text/x-python",
   "name": "python",
   "nbconvert_exporter": "python",
   "pygments_lexer": "ipython3",
   "version": "3.1.0"
  }
 },
 "nbformat": 4,
 "nbformat_minor": 2
}
