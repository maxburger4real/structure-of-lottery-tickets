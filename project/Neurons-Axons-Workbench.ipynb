{
 "cells": [
  {
   "cell_type": "code",
   "execution_count": 28,
   "metadata": {},
   "outputs": [
    {
     "name": "stdout",
     "output_type": "stream",
     "text": [
      "The autoreload extension is already loaded. To reload it, use:\n",
      "  %reload_ext autoreload\n"
     ]
    }
   ],
   "source": [
    "%load_ext autoreload\n",
    "%autoreload 2\n",
    "\n",
    "from common import plotting\n",
    "from common import tracking\n"
   ]
  },
  {
   "cell_type": "code",
   "execution_count": 51,
   "metadata": {},
   "outputs": [],
   "source": [
    "model_class = 'SimpleMLP_4_20_20_2'\n",
    "timestamp = \"2023_10_03_143604\" \n",
    "base = tracking.persistance_path / model_class / timestamp\n",
    "\n",
    "G = plotting.plot_checkpoints(base)"
   ]
  },
  {
   "cell_type": "markdown",
   "metadata": {},
   "source": []
  },
  {
   "cell_type": "code",
   "execution_count": 34,
   "metadata": {},
   "outputs": [],
   "source": [
    "items = ([(0, (171.0, 234.0)), (1, (243.0, 234.0)), (2, (27.0, 234.0)), (3, (99.0, 234.0)), (4, (1035.0, 162.0)), (5, (1107.0, 162.0)), (6, (1179.0, 162.0)), (7, (1251.0, 162.0)), (8, (1323.0, 162.0)), (9, (1395.0, 162.0)), (10, (27.0, 162.0)), (11, (99.0, 162.0)), (12, (171.0, 162.0)), (13, (243.0, 162.0)), (14, (315.0, 162.0)), (15, (387.0, 162.0)), (16, (459.0, 162.0)), (17, (531.0, 162.0)), (18, (603.0, 162.0)), (19, (675.0, 162.0)), (20, (747.0, 162.0)), (21, (819.0, 162.0)), (22, (891.0, 162.0)), (23, (963.0, 162.0)), (24, (1035.0, 90.0)), (25, (1107.0, 90.0)), (26, (1179.0, 90.0)), (27, (1251.0, 90.0)), (28, (1323.0, 90.0)), (29, (1395.0, 90.0)), (30, (27.0, 90.0)), (31, (99.0, 90.0)), (32, (171.0, 90.0)), (33, (243.0, 90.0)), (34, (315.0, 90.0)), (35, (387.0, 90.0)), (36, (459.0, 90.0)), (37, (531.0, 90.0)), (38, (603.0, 90.0)), (39, (675.0, 90.0)), (40, (747.0, 90.0)), (41, (819.0, 90.0)), (42, (891.0, 90.0)), (43, (963.0, 90.0)), (44, (27.0, 18.0)), (45, (99.0, 18.0))])"
   ]
  },
  {
   "cell_type": "code",
   "execution_count": 35,
   "metadata": {},
   "outputs": [
    {
     "data": {
      "text/plain": [
       "[234.0, 162.0, 90.0, 18.0]"
      ]
     },
     "execution_count": 35,
     "metadata": {},
     "output_type": "execute_result"
    }
   ],
   "source": [
    "layers = []\n",
    "for id, (x,y) in items:\n",
    "    if y not in layers:\n",
    "        layers.append(y)\n",
    "layers"
   ]
  },
  {
   "cell_type": "code",
   "execution_count": 36,
   "metadata": {},
   "outputs": [],
   "source": [
    "import numpy as np\n",
    "for layer in layers:\n",
    "    nodes = [x for id, (x,y) in items if y==layer]\n",
    "    order = np.argsort(nodes)\n",
    "    \n",
    "    break"
   ]
  }
 ],
 "metadata": {
  "kernelspec": {
   "display_name": "Python 3",
   "language": "python",
   "name": "python3"
  },
  "language_info": {
   "codemirror_mode": {
    "name": "ipython",
    "version": 3
   },
   "file_extension": ".py",
   "mimetype": "text/x-python",
   "name": "python",
   "nbconvert_exporter": "python",
   "pygments_lexer": "ipython3",
   "version": "3.11.5"
  },
  "orig_nbformat": 4
 },
 "nbformat": 4,
 "nbformat_minor": 2
}
