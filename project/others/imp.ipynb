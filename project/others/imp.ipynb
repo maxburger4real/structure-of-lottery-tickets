{
 "cells": [
  {
   "cell_type": "code",
   "execution_count": 57,
   "metadata": {},
   "outputs": [
    {
     "name": "stdout",
     "output_type": "stream",
     "text": [
      "The autoreload extension is already loaded. To reload it, use:\n",
      "  %reload_ext autoreload\n"
     ]
    }
   ],
   "source": [
    "%load_ext autoreload\n",
    "%autoreload 2\n",
    "\n",
    "import torch\n",
    "import torch.nn.utils.prune as prune\n",
    "\n",
    "import pathlib\n",
    "import copy\n",
    "from collections import defaultdict\n",
    "import matplotlib.pyplot as plt\n",
    "\n",
    "from datasets import symbolic_1\n",
    "from architectures.simlpe_mlp import SimpleMLP\n",
    "from common import torch_utils"
   ]
  },
  {
   "cell_type": "code",
   "execution_count": 36,
   "metadata": {},
   "outputs": [
    {
     "data": {
      "text/plain": [
       "[10, 8, 6, 5, 4, 3, 2, 2, 2, 2, 2, 2, 2, 2, 2, 2, 2, 2, 2, 2, 2]"
      ]
     },
     "execution_count": 36,
     "metadata": {},
     "output_type": "execute_result"
    }
   ],
   "source": [
    "model_shape = [symbolic_1.INPUT_DIM, symbolic_1.OUTPUT_DIM]\n",
    "model = SimpleMLP(model_shape)\n",
    "pruning_levels = 20\n",
    "pruning_rate = .2\n",
    "\n",
    "torch_utils.count_model_biases(model), torch_utils.count_model_weights(model)\n",
    "torch_utils.count_pruned_weights(model), torch_utils.count_pruned_biases(model)\n",
    "torch_utils.remaining_weights_by_pruning_steps(model, pruning_rate, pruning_levels)"
   ]
  },
  {
   "cell_type": "markdown",
   "metadata": {},
   "source": [
    "https://discuss.pytorch.org/t/cant-reset-parameters-with-torch-nn-utils-prune/76115/4\n",
    "https://pytorch.org/tutorials/intermediate/pruning_tutorial.html#iterative-pruning"
   ]
  },
  {
   "cell_type": "code",
   "execution_count": 120,
   "metadata": {},
   "outputs": [],
   "source": [
    "def check_if_state_dicts_equal(sd1, sd2, compare=None):\n",
    "    \"\"\"ONLY PROBLEM: When the gradients are zero, state dicts will also be unchanged.\"\"\"\n",
    "    equal = True\n",
    "    for (k1, v1), (k2, v2) in zip(sd1.items(), sd2.items()):\n",
    "        if k1 != k2:\n",
    "            raise Exception(\"The state dicts must be the same\")\n",
    "\n",
    "        if compare is not None and compare not in k1: continue\n",
    "\n",
    "        if not torch.equal(v1, v2):\n",
    "            equal= False\n",
    "            # print(f\"{k1}-1 and {k2}-2 are not equal\")\n",
    "    # print(equal)\n",
    "    return equal\n"
   ]
  },
  {
   "cell_type": "code",
   "execution_count": 121,
   "metadata": {},
   "outputs": [
    {
     "name": "stdout",
     "output_type": "stream",
     "text": [
      "(0, 16, 0.0)\n",
      "(3, 16, 0.1875)\n",
      "(6, 16, 0.375)\n",
      "(8, 16, 0.5)\n",
      "(10, 16, 0.625)\n"
     ]
    },
    {
     "ename": "AssertionError",
     "evalue": "",
     "output_type": "error",
     "traceback": [
      "\u001b[0;31m---------------------------------------------------------------------------\u001b[0m",
      "\u001b[0;31mAssertionError\u001b[0m                            Traceback (most recent call last)",
      "\u001b[1;32m/Users/max/Documents/JKU/_Master_Thesis/project/imp.ipynb Cell 6\u001b[0m line \u001b[0;36m4\n\u001b[1;32m     <a href='vscode-notebook-cell:/Users/max/Documents/JKU/_Master_Thesis/project/imp.ipynb#X10sZmlsZQ%3D%3D?line=43'>44</a>\u001b[0m trained \u001b[39m=\u001b[39m copy\u001b[39m.\u001b[39mdeepcopy(model\u001b[39m.\u001b[39mstate_dict())\n\u001b[1;32m     <a href='vscode-notebook-cell:/Users/max/Documents/JKU/_Master_Thesis/project/imp.ipynb#X10sZmlsZQ%3D%3D?line=44'>45</a>\u001b[0m \u001b[39massert\u001b[39;00m check_if_state_dicts_equal(trained, reinit, compare\u001b[39m=\u001b[39m\u001b[39m\"\u001b[39m\u001b[39mweight_mask\u001b[39m\u001b[39m\"\u001b[39m) \u001b[39m==\u001b[39m \u001b[39mTrue\u001b[39;00m\n\u001b[0;32m---> <a href='vscode-notebook-cell:/Users/max/Documents/JKU/_Master_Thesis/project/imp.ipynb#X10sZmlsZQ%3D%3D?line=45'>46</a>\u001b[0m \u001b[39massert\u001b[39;00m check_if_state_dicts_equal(trained, reinit, compare\u001b[39m=\u001b[39m\u001b[39m\"\u001b[39m\u001b[39mweight_orig\u001b[39m\u001b[39m\"\u001b[39m) \u001b[39m==\u001b[39m \u001b[39mFalse\u001b[39;00m\n\u001b[1;32m     <a href='vscode-notebook-cell:/Users/max/Documents/JKU/_Master_Thesis/project/imp.ipynb#X10sZmlsZQ%3D%3D?line=46'>47</a>\u001b[0m \u001b[39massert\u001b[39;00m check_if_state_dicts_equal(trained, reinit, compare\u001b[39m=\u001b[39m\u001b[39m\"\u001b[39m\u001b[39mbias\u001b[39m\u001b[39m\"\u001b[39m) \u001b[39m==\u001b[39m \u001b[39mFalse\u001b[39;00m\n\u001b[1;32m     <a href='vscode-notebook-cell:/Users/max/Documents/JKU/_Master_Thesis/project/imp.ipynb#X10sZmlsZQ%3D%3D?line=48'>49</a>\u001b[0m loss[\u001b[39m'\u001b[39m\u001b[39meval\u001b[39m\u001b[39m'\u001b[39m]\u001b[39m.\u001b[39mappend(eval_loss)\n",
      "\u001b[0;31mAssertionError\u001b[0m: "
     ]
    }
   ],
   "source": [
    "model = SimpleMLP(weight_shape=[symbolic_1.INPUT_DIM,2,2, symbolic_1.OUTPUT_DIM])\n",
    "\n",
    "# optimizer and loss\n",
    "lr = 0.1\n",
    "optim = torch.optim.SGD(model.parameters(), lr = lr)\n",
    "loss_fn = torch.nn.MSELoss(reduction=\"mean\")\n",
    "\n",
    "# preparing for pruning\n",
    "modules = [m for m in model.modules if torch_utils.module_is_trainable(m)]\n",
    "parameters_to_prune = [(module, 'weight') for module in modules]\n",
    "\n",
    "# tracking metrics\n",
    "loss = defaultdict(list)\n",
    "stats_dict = torch_utils.pruning_stats(parameters_to_prune)\n",
    "\n",
    "# training\n",
    "epochs = 8\n",
    "train_loader, test_loader = symbolic_1.get_dataloaders()\n",
    "\n",
    "prune.global_unstructured(\n",
    "        parameters_to_prune,\n",
    "        prune.L1Unstructured,\n",
    "        amount=0,\n",
    "    )\n",
    "\n",
    "# deepcopy is necessary, otherwise the state_dict just holds a reference to the modules\n",
    "init =  copy.deepcopy(model.state_dict())\n",
    "\n",
    "# creates a copy\n",
    "init_state_dict_no_masks = {k: v for k, v in init.items() if \"_mask\" not in k}\n",
    "\n",
    "total_params = torch_utils.count_model_weights(model)\n",
    "for step in range(epochs):\n",
    "    print(torch_utils.measure_global_sparsity(model, use_mask=True))\n",
    "\n",
    "    model.load_state_dict(init_state_dict_no_masks, strict=False)\n",
    "    reinit = copy.deepcopy(model.state_dict())\n",
    "    assert check_if_state_dicts_equal(init, reinit, compare=\"weight_orig\") == True\n",
    "    if step > 0:\n",
    "        assert (check_if_state_dicts_equal(init, reinit, compare=\"weight_mask\") == False)\n",
    "\n",
    "    eval_loss = torch_utils.evaluate(model, test_loader, loss_fn)\n",
    "    train_loss = torch_utils.update(model, train_loader, optim, loss_fn)\n",
    "    trained = copy.deepcopy(model.state_dict())\n",
    "    assert check_if_state_dicts_equal(trained, reinit, compare=\"weight_mask\") == True\n",
    "    assert check_if_state_dicts_equal(trained, reinit, compare=\"weight_orig\") == False\n",
    "    assert check_if_state_dicts_equal(trained, reinit, compare=\"bias\") == False\n",
    "\n",
    "    loss['eval'].append(eval_loss)\n",
    "    loss['train'].append(train_loss)    \n",
    "\n",
    "    prune.global_unstructured(parameters_to_prune, prune.L1Unstructured, amount=pruning_rate)\n",
    "    pruned = copy.deepcopy(model.state_dict())\n",
    "\n",
    "    assert check_if_state_dicts_equal(trained, pruned, compare=\"weight_orig\") == True\n",
    "    assert check_if_state_dicts_equal(trained, pruned, compare=\"weight_mask\") == False\n",
    "\n",
    "model.load_state_dict(init_state_dict_no_masks, strict=False)"
   ]
  },
  {
   "cell_type": "code",
   "execution_count": 78,
   "metadata": {},
   "outputs": [
    {
     "data": {
      "text/plain": [
       "OrderedDict([('model.0.bias', tensor([0.4994, 0.0522])),\n",
       "             ('model.0.weight_orig',\n",
       "              tensor([[-0.4481,  0.0984, -0.3170, -0.2402],\n",
       "                      [-0.0311,  0.3378, -0.3409, -0.3065]])),\n",
       "             ('model.0.weight_mask',\n",
       "              tensor([[1., 1., 1., 1.],\n",
       "                      [1., 1., 1., 1.]])),\n",
       "             ('model.2.bias', tensor([-0.0167, -0.2209])),\n",
       "             ('model.2.weight_orig',\n",
       "              tensor([[ 0.3972, -0.5315],\n",
       "                      [-0.4040,  0.2376]])),\n",
       "             ('model.2.weight_mask',\n",
       "              tensor([[1., 1.],\n",
       "                      [1., 1.]])),\n",
       "             ('model.4.bias', tensor([-0.6329, -0.3847])),\n",
       "             ('model.4.weight_orig',\n",
       "              tensor([[ 0.5343,  0.7008],\n",
       "                      [-0.0871,  0.4187]])),\n",
       "             ('model.4.weight_mask',\n",
       "              tensor([[1., 1.],\n",
       "                      [1., 1.]]))])"
      ]
     },
     "execution_count": 78,
     "metadata": {},
     "output_type": "execute_result"
    }
   ],
   "source": [
    "trained"
   ]
  },
  {
   "cell_type": "code",
   "execution_count": 76,
   "metadata": {},
   "outputs": [
    {
     "data": {
      "image/png": "[encoded data removed]",
      "text/plain": [
       "<Figure size 432x288 with 1 Axes>"
      ]
     },
     "metadata": {
      "needs_background": "light"
     },
     "output_type": "display_data"
    }
   ],
   "source": [
    "\n",
    "parameters_to_prune = [(module, 'weight') for module in modules]\n",
    "stats_dict = torch_utils.pruning_stats(parameters_to_prune, stats_dict)\n",
    "\n",
    "for k, v in stats_dict.items():\n",
    "    plt.plot(v, label=k)\n",
    "plt.legend()\n",
    "plt.show()"
   ]
  },
  {
   "cell_type": "code",
   "execution_count": 40,
   "metadata": {},
   "outputs": [
    {
     "data": {
      "image/png": "[encoded data removed]",
      "text/plain": [
       "<Figure size 432x288 with 1 Axes>"
      ]
     },
     "metadata": {
      "needs_background": "light"
     },
     "output_type": "display_data"
    }
   ],
   "source": [
    "plt.plot(loss['eval'], label=\"eval\")\n",
    "plt.plot(loss['train'], label=\"train\")\n",
    "plt.legend()\n",
    "plt.show()"
   ]
  },
  {
   "cell_type": "code",
   "execution_count": null,
   "metadata": {},
   "outputs": [],
   "source": []
  }
 ],
 "metadata": {
  "kernelspec": {
   "display_name": "Python 3",
   "language": "python",
   "name": "python3"
  },
  "language_info": {
   "codemirror_mode": {
    "name": "ipython",
    "version": 3
   },
   "file_extension": ".py",
   "mimetype": "text/x-python",
   "name": "python",
   "nbconvert_exporter": "python",
   "pygments_lexer": "ipython3",
   "version": "3.11.5"
  },
  "orig_nbformat": 4
 },
 "nbformat": 4,
 "nbformat_minor": 2
}
