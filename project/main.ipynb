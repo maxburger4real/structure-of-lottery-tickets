{
 "cells": [
  {
   "cell_type": "code",
   "execution_count": 1,
   "metadata": {},
   "outputs": [],
   "source": [
    "%load_ext autoreload\n",
    "%autoreload 2"
   ]
  },
  {
   "cell_type": "code",
   "execution_count": 127,
   "metadata": {},
   "outputs": [],
   "source": [
    "# Data handling\n",
    "import pandas as pd\n",
    "import numpy as np\n",
    "import torch.nn as nn\n",
    "import torch\n",
    "from pathlib import Path\n",
    "\n",
    "import networkx as nx\n",
    "\n",
    "import nx_utils\n",
    "from nx_utils import( \n",
    "    get_weights_and_biases_from_state_dict, \n",
    "    load_state_dict_from_file, \n",
    ")\n",
    "import bokeh_utils\n",
    "from bokeh_utils import (\n",
    "    LINE_ALPHA, \n",
    "    LINE_COLOR,\n",
    "    LINE_COLOR_LIST,\n",
    "    LAYER\n",
    ")\n",
    "from bokeh.io import output_file, output_notebook \n",
    "# output_notebook()  # Render inline in a Jupyter Notebook"
   ]
  },
  {
   "cell_type": "code",
   "execution_count": 128,
   "metadata": {},
   "outputs": [],
   "source": [
    "MODELDIR = Path(\"models\")\n",
    "TIME = \"2023-09-16_220748\"\n",
    "NAME = 'Number-1'\n",
    "dir = MODELDIR/NAME/TIME"
   ]
  },
  {
   "cell_type": "code",
   "execution_count": 129,
   "metadata": {},
   "outputs": [],
   "source": [
    "G = nx.DiGraph()\n",
    "\n",
    "list_of_files = sorted(dir.glob(\"*.pt\"))\n",
    "\n",
    "state_dict = nx_utils.load_state_dict_from_file(list_of_files[0])\n",
    "weight_shapes = nx_utils.get_shape_from_state_dict(state_dict)\n",
    "\n",
    "nx_utils.add_neuron_nodes(G, weight_shapes)\n",
    "# nx.draw(G, pos=nx.multipartite_layout(G, subset_key=LAYER))"
   ]
  },
  {
   "cell_type": "code",
   "execution_count": 132,
   "metadata": {},
   "outputs": [],
   "source": [
    "weights = [\n",
    "    get_weights_and_biases_from_state_dict(\n",
    "        load_state_dict_from_file(f)\n",
    "    )[0]\n",
    "    for f in list_of_files\n",
    "]\n",
    "layers_of_weights = [torch.stack(x) for x in zip(*weights)]\n",
    "\n",
    "attribute_functions = {\n",
    "       LINE_COLOR_LIST : nx_utils.black_and_white(layers_of_weights)\n",
    "    }\n",
    "\n",
    "nx_utils.add_weight_edges_arrays(\n",
    "    G, \n",
    "    nx_utils.get_layers_of_nodes(G), \n",
    "    attribute_functions\n",
    "    )\n",
    "bokeh_utils.draw_interactive_mlp_graph(G)"
   ]
  },
  {
   "cell_type": "code",
   "execution_count": null,
   "metadata": {},
   "outputs": [],
   "source": []
  }
 ],
 "metadata": {
  "kernelspec": {
   "display_name": "Python 3",
   "language": "python",
   "name": "python3"
  },
  "language_info": {
   "codemirror_mode": {
    "name": "ipython",
    "version": 3
   },
   "file_extension": ".py",
   "mimetype": "text/x-python",
   "name": "python",
   "nbconvert_exporter": "python",
   "pygments_lexer": "ipython3",
   "version": "3.11.5"
  },
  "orig_nbformat": 4
 },
 "nbformat": 4,
 "nbformat_minor": 2
}
