{
 "cells": [
  {
   "cell_type": "code",
   "execution_count": null,
   "metadata": {},
   "outputs": [],
   "source": [
    "%load_ext autoreload\n",
    "%autoreload 2\n",
    "import sys\n",
    "sys.path.append(\"../../project\")"
   ]
  },
  {
   "cell_type": "code",
   "execution_count": null,
   "metadata": {},
   "outputs": [],
   "source": [
    "import torch\n",
    "import torch.nn.utils.prune as prune\n",
    "\n",
    "from common.torch_utils import module_is_trainable\n",
    "from common.constants import *\n",
    "from common import testutils\n",
    "from common import nxutils\n",
    "import wandb"
   ]
  },
  {
   "cell_type": "code",
   "execution_count": null,
   "metadata": {},
   "outputs": [],
   "source": [
    "task_in_size=2\n",
    "task_out_size=1\n",
    "task_description = (\n",
    "    ('moons' , (task_in_size, task_out_size)), \n",
    "    ('circles', (task_in_size, task_out_size)), \n",
    "    ('spirals', (task_in_size, task_out_size))\n",
    ")\n",
    "num_tasks = len(task_description)\n",
    "shape = [\n",
    "    task_in_size*num_tasks,\n",
    "    5*num_tasks,\n",
    "    5*num_tasks,\n",
    "    task_out_size*num_tasks\n",
    "]\n",
    "\n",
    "model = testutils.BaseModel(shape, init_bias_zero=True)\n",
    "model = testutils.make_splitable_model(model, num_tasks, tile_offset= 0.1)\n",
    "nxutils.GraphManager(model, shape, task_description)"
   ]
  },
  {
   "cell_type": "code",
   "execution_count": null,
   "metadata": {},
   "outputs": [],
   "source": [
    "torch.manual_seed(1)\n",
    "\n",
    "shape = (6,6,6,2)\n",
    "task_description = ('moons' , (3, 1)), ('circles', (3, 1))\n",
    "num_tasks = len(task_description)\n",
    "\n",
    "model = testutils.BaseModel(shape, init_bias_zero=False)\n",
    "model = testutils.make_splitable_model(model, num_tasks, tile_offset= 0.1)\n",
    "modules = [m for m in model.modules if module_is_trainable(m)]\n",
    "\n",
    "params = []\n",
    "params.extend([(module, 'weight') for module in modules])\n",
    "params.extend([(module, 'bias') for module in modules])\n",
    "\n",
    "gm = nxutils.GraphManager(model, shape, task_description)\n",
    "\n",
    "print(f'INITIAL STATE')\n",
    "#gm.plot()\n",
    "gm.print_info()\n",
    "\n",
    "print(f'START PRUNING')\n",
    "with wandb.init(project=\"test-plots\") as run:\n",
    "    for i in range(9):\n",
    "        print(f'{\"-\"*30} it {i} begin {\"-\"*30} ')\n",
    "\n",
    "        print(f'update the graph manager')\n",
    "        gm.update(model)\n",
    "\n",
    "        print(f'print info')\n",
    "        gm.print_info()\n",
    "\n",
    "        print('plot the model')\n",
    "        #gm.plot()\n",
    "\n",
    "        for name, g in gm.catalogue.items():\n",
    "            run.log({name: gm.make_plotly(g)})\n",
    "\n",
    "        print('prune the network')\n",
    "        prune.global_unstructured(\n",
    "            parameters=params, \n",
    "            pruning_method=prune.L1Unstructured, \n",
    "            amount=0.2\n",
    "        )\n",
    "        print(f'{\"-\"*30} it {i} end {\"-\"*30} ')\n"
   ]
  },
  {
   "cell_type": "code",
   "execution_count": null,
   "metadata": {},
   "outputs": [],
   "source": []
  }
 ],
 "metadata": {
  "kernelspec": {
   "display_name": "Python 3",
   "language": "python",
   "name": "python3"
  },
  "language_info": {
   "codemirror_mode": {
    "name": "ipython",
    "version": 3
   },
   "file_extension": ".py",
   "mimetype": "text/x-python",
   "name": "python",
   "nbconvert_exporter": "python",
   "pygments_lexer": "ipython3",
   "version": "3.11.5"
  }
 },
 "nbformat": 4,
 "nbformat_minor": 2
}
