{
 "cells": [
  {
   "cell_type": "code",
   "execution_count": null,
   "metadata": {},
   "outputs": [],
   "source": [
    "%load_ext autoreload\n",
    "%autoreload 2\n",
    "import sys\n",
    "sys.path.append(\"../../project\")"
   ]
  },
  {
   "cell_type": "code",
   "execution_count": null,
   "metadata": {},
   "outputs": [],
   "source": [
    "import torch\n",
    "import numpy as np\n",
    "import matplotlib.pyplot as plt\n",
    "#from sklearn import datasets, preprocessing\n",
    "from common import datasets\n",
    "from common import models \n",
    "from common.constants import *"
   ]
  },
  {
   "cell_type": "code",
   "execution_count": null,
   "metadata": {},
   "outputs": [],
   "source": [
    "def plot_nn_weights(network: torch.nn.Module):\n",
    "    # Iterate through all layers of the given network\n",
    "    for name, layer in network.named_modules():\n",
    "        # Check if the layer is a linear layer\n",
    "        if isinstance(layer, torch.nn.Linear):\n",
    "            # Extract the weights\n",
    "            weights = layer.weight.data.numpy()\n",
    "\n",
    "            # Plot the histogram of the weights\n",
    "            plt.hist(weights.flatten(), bins=70, alpha=0.7, label=f'Layer: {name}')\n",
    "    plt.title('Histogram of Weights in Neural Network')\n",
    "    plt.xlabel('Weight values')\n",
    "    plt.ylabel('Frequency')\n",
    "    plt.legend()\n",
    "    plt.show()"
   ]
  },
  {
   "cell_type": "code",
   "execution_count": null,
   "metadata": {},
   "outputs": [],
   "source": [
    "shape = [2,200,1]\n",
    "model = models.MLP(shape, seed=1).init(InitializationStrategy.KAIMING_NORMAL, InitializationStrategy.ZERO)\n",
    "plot_nn_weights(model)"
   ]
  },
  {
   "cell_type": "code",
   "execution_count": null,
   "metadata": {},
   "outputs": [],
   "source": [
    "model = models.MLP(shape, seed=1).init(InitializationStrategy.NORMAL, InitializationStrategy.ZERO)\n",
    "plot_nn_weights(model)"
   ]
  },
  {
   "cell_type": "code",
   "execution_count": null,
   "metadata": {},
   "outputs": [],
   "source": [
    "shape = [2,50,50,1]\n",
    "model = models.MLP(shape, seed=1).init(InitializationStrategy.XAVIER_NORMAL, InitializationStrategy.ZERO)\n",
    "plot_nn_weights(model)"
   ]
  },
  {
   "cell_type": "code",
   "execution_count": null,
   "metadata": {},
   "outputs": [],
   "source": [
    "shape = [2,50,50,1]\n",
    "model = models.MLP(shape, seed=1).init(InitializationStrategy.XAVIER_UNIFORM, InitializationStrategy.ZERO)\n",
    "plot_nn_weights(model)"
   ]
  },
  {
   "cell_type": "code",
   "execution_count": null,
   "metadata": {},
   "outputs": [],
   "source": []
  }
 ],
 "metadata": {
  "kernelspec": {
   "display_name": "Python 3",
   "language": "python",
   "name": "python3"
  },
  "language_info": {
   "codemirror_mode": {
    "name": "ipython",
    "version": 3
   },
   "file_extension": ".py",
   "mimetype": "text/x-python",
   "name": "python",
   "nbconvert_exporter": "python",
   "pygments_lexer": "ipython3",
   "version": "3.11.0"
  }
 },
 "nbformat": 4,
 "nbformat_minor": 2
}
