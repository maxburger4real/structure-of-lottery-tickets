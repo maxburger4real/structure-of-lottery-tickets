{
 "cells": [
  {
   "cell_type": "code",
   "execution_count": null,
   "metadata": {},
   "outputs": [],
   "source": [
    "%load_ext autoreload\n",
    "%autoreload 2\n",
    "import pandas as pd\n",
    "from utils import *\n",
    "import matplotlib.pyplot as plt\n",
    "\n",
    "plt.rcParams['font.family'] = 'Helvetica'"
   ]
  },
  {
   "cell_type": "code",
   "execution_count": null,
   "metadata": {},
   "outputs": [],
   "source": [
    "sweep_ids=['wpcowdl5', 'j9lvvxjg', 'a5kr3muw']\n",
    "\n",
    "try: print('Histories already loaded.') if hc else None\n",
    "except: hc = load_histories_and_configs(sweep_ids)\n",
    "\n",
    "# define dataframes to concat\n",
    "_split = make_split_df(hc)\n",
    "_levels = make_df(hc, 'pruning_levels')\n",
    "_pr = make_df(hc, 'pruning_rate')\n",
    "_splitrange = make_splitrange_df(hc)\n",
    "_first, _last = make_dfs_at_splitrange(hc, _splitrange)"
   ]
  }
 ],
 "metadata": {
  "kernelspec": {
   "display_name": "Python 3",
   "language": "python",
   "name": "python3"
  },
  "language_info": {
   "codemirror_mode": {
    "name": "ipython",
    "version": 3
   },
   "file_extension": ".py",
   "mimetype": "text/x-python",
   "name": "python",
   "nbconvert_exporter": "python",
   "pygments_lexer": "ipython3",
   "version": "3.11.0"
  }
 },
 "nbformat": 4,
 "nbformat_minor": 2
}
