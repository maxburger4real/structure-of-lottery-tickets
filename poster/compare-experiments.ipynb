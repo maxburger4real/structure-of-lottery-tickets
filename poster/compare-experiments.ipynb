{
 "cells": [
  {
   "cell_type": "code",
   "execution_count": null,
   "metadata": {},
   "outputs": [],
   "source": [
    "\n",
    "%load_ext autoreload\n",
    "%autoreload 2\n",
    "import pandas as pd\n",
    "from utils import *\n",
    "import matplotlib.pyplot as plt\n",
    "\n",
    "plt.rcParams['font.family'] = 'Helvetica'"
   ]
  },
  {
   "cell_type": "code",
   "execution_count": null,
   "metadata": {},
   "outputs": [],
   "source": [
    "try: print('Histories already loaded.') if hc_extension else None\n",
    "except: hc_extension = load_histories_and_configs(['wpcowdl5', 'j9lvvxjg', 'a5kr3muw'])\n",
    "\n",
    "try: print('Histories already loaded.') if hc_20levels else None\n",
    "except: hc_20levels = load_histories_and_configs(['p30nbq46', 'r0b16unk', 'ocfuu4ip'])"
   ]
  },
  {
   "cell_type": "code",
   "execution_count": null,
   "metadata": {},
   "outputs": [],
   "source": [
    "# active from extension experiment\n",
    "hidden_dims = make_df(hc_extension, 'model_shape').map(lambda shape: shape[1])['model_shape'].to_list()\n",
    "active_extension = make_df_from_history(hc_extension, 'active-weights-rel', invert=True, drop_first=True)[1].to_list()\n",
    "df = pd.DataFrame(data=zip(hidden_dims, active_extension)).groupby(0).mean()\n",
    "x = df.index.to_list()\n",
    "x = df.reset_index().index.to_list()\n",
    "y = df[1].to_list()\n",
    "plt.plot(x,y, label='extended models', marker='o')\n",
    "\n",
    "active_20_levels = make_df_from_history(hc_20levels, 'active-weights-rel', invert=True, drop_first=True)[1].to_list()\n",
    "hidden_dims = make_df(hc_20levels, 'model_shape').map(lambda shape: shape[1])['model_shape'].to_list()\n",
    "df = pd.DataFrame(data=zip(hidden_dims, active_extension)).groupby(0).mean()\n",
    "x = df.index.to_list()\n",
    "x = df.reset_index().index.to_list()\n",
    "y = df[1].to_list()\n",
    "plt.plot(x,y, label='20 pruning levels', marker='o')\n",
    "plt.legend()\n",
    "plt.show()"
   ]
  },
  {
   "cell_type": "code",
   "execution_count": null,
   "metadata": {},
   "outputs": [],
   "source": [
    "\n",
    "\n",
    "x = df.index.to_list()\n",
    "y = df[1].to_list()\n",
    "\n",
    "xticks = x\n",
    "xticks = xticks[0:1] + xticks[8:9] + xticks[14:15] + xticks[18:]\n",
    "xticklabels = xticks\n",
    "\n",
    "\n",
    "plt.scatter(x,y)\n",
    "plt.xticks(xticks, xticklabels)\n",
    "plt.xlabel('extension level')\n",
    "plt.ylabel('% weights remaining')\n",
    "plt.show()"
   ]
  },
  {
   "cell_type": "code",
   "execution_count": null,
   "metadata": {},
   "outputs": [],
   "source": [
    "\n",
    "\n",
    "pd.DataFrame(\n",
    "    {\n",
    "        'hidden dims' : hidden_dims,\n",
    "        '%active' : final_active_percentages\n",
    "    }\n",
    ").groupby('model_shape').mean().reset_index()"
   ]
  },
  {
   "cell_type": "code",
   "execution_count": null,
   "metadata": {},
   "outputs": [],
   "source": [
    "df = pd.concat([_shape, df_active], axis=1).groupby('model_shape').mean().reset_index()\n",
    "\n",
    "\n",
    "# active from 20 levels experiment\n",
    "df_active = make_df_from_history(hc_20levels, 'active-weights-rel', invert=True, drop_first=True)\n"
   ]
  },
  {
   "cell_type": "code",
   "execution_count": null,
   "metadata": {},
   "outputs": [],
   "source": [
    "df_active = make_df_from_history(hc, 'active-weights-rel', invert=True, drop_first=True)\n",
    "df = pd.concat([_shape, df_active], axis=1).groupby('model_shape').mean().reset_index()\n",
    "\n",
    "x = df['model_shape'].to_list()\n",
    "y = df[1].to_list()\n",
    "\n",
    "xticks = x\n",
    "xticks = xticks[0:1] + xticks[8:9] + xticks[14:15] + xticks[18:]\n",
    "xticklabels = xticks\n",
    "\n",
    "\n",
    "plt.scatter(x,y)\n",
    "plt.xticks(xticks, xticklabels)\n",
    "plt.xlabel('extension level')\n",
    "plt.ylabel('% weights remaining')\n",
    "plt.show()"
   ]
  }
 ],
 "metadata": {
  "kernelspec": {
   "display_name": "Python 3",
   "language": "python",
   "name": "python3"
  },
  "language_info": {
   "codemirror_mode": {
    "name": "ipython",
    "version": 3
   },
   "file_extension": ".py",
   "mimetype": "text/x-python",
   "name": "python",
   "nbconvert_exporter": "python",
   "pygments_lexer": "ipython3",
   "version": "3.11.0"
  }
 },
 "nbformat": 4,
 "nbformat_minor": 2
}
