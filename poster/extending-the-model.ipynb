{
 "cells": [
  {
   "cell_type": "code",
   "execution_count": null,
   "metadata": {},
   "outputs": [],
   "source": [
    "%load_ext autoreload\n",
    "%autoreload 2\n",
    "import pandas as pd\n",
    "from utils import *\n",
    "import matplotlib.pyplot as plt\n",
    "from matplotlib.colors import LinearSegmentedColormap\n",
    "plt.rcParams['font.family'] = 'Helvetica'\n",
    "\n",
    "description =(\n",
    "'''Take a model with very small size (4,8,8,2). It will function as the *base model*. Only considering weights for pruning, this model has 112 p-params.\n",
    "With a fixed p-rate of 0.32, a larger model architecture can be calculated, which would have the same number of p-parameters after pruning with (roughly) the p-rate once.\n",
    "This process is termed \"model extension\". A model is extended by n, where n is the number of p-levels needed to get it to the size of the base model. n is termed the \"extension-level\".\n",
    "The model architectures are restricted to having the same number of hidden layers, and the same number of hidden neurons in each hidden layer.\n",
    "Therefore, the exact p-rate differs slightly, depending on the extension level.\n",
    "'''\n",
    ")"
   ]
  },
  {
   "cell_type": "code",
   "execution_count": null,
   "metadata": {},
   "outputs": [],
   "source": [
    "sweep_ids=['wpcowdl5', 'j9lvvxjg', 'a5kr3muw']\n",
    "\n",
    "try: print('Histories already loaded.') if hc else None\n",
    "except: hc = load_histories_and_configs(sweep_ids)\n",
    "\n",
    "# define dataframes to concat\n",
    "_split = make_split_df(hc)\n",
    "_levels = make_df(hc, 'extension_levels')\n",
    "_shape = make_df(hc, 'model_shape').map(lambda shape: shape[1])\n",
    "_p_params_begin = make_df(hc, 'param_trajectory').map(lambda x: x[0])\n",
    "#_shape['hidden_dim'] = _shape.map(lambda shape: shape[1])\n",
    "_splitrange = make_splitrange_df(hc)\n",
    "_first, _last = make_dfs_at_splitrange(hc, _splitrange)"
   ]
  },
  {
   "cell_type": "code",
   "execution_count": null,
   "metadata": {},
   "outputs": [],
   "source": [
    "plt.figure(figsize=(6,4))\n",
    "valloss = make_df_from_history(hc, 'val-loss', invert=False, drop_first=True)\n",
    "active = make_df_from_history(hc, 'active-weights-abs', invert=False, drop_first=True)\n",
    "potential = make_df_from_history(hc, 'untapped-potential', invert=False, drop_first=True)\n",
    "\n",
    "mean_active = pd.concat([_levels, active], axis=1).groupby('extension_levels').mean()\n",
    "mean_loss = pd.concat([_levels, valloss], axis=1).groupby('extension_levels').mean()\n",
    "\n",
    "# find best loss for each extension level (row)\n",
    "Y = mean_loss.to_numpy()\n",
    "X = mean_active.to_numpy()\n",
    "indices = np.nanargmin(Y, axis=1)\n",
    "rows = np.arange(indices.shape[0])\n",
    "\n",
    "y = Y[rows, indices]\n",
    "x = X[rows, indices]\n",
    "\n",
    "cmap_blue = LinearSegmentedColormap.from_list('', ['#1E88E5', '#3c1ee5'], N=len(rows))\n",
    "plt.scatter(x,y, color='blue', label='best', alpha=0.6)\n",
    "#plt.scatter(x,y, c=rows, cmap='winter', label='best overall')\n",
    "#plt.colorbar()\n",
    "\n",
    "active = (potential == 0) * active\n",
    "active[active == 0] = np.nan\n",
    "valloss = (potential == 0) * valloss\n",
    "valloss[valloss == 0] = np.nan\n",
    "mean_active = pd.concat([_levels, active], axis=1).groupby('extension_levels').mean()\n",
    "mean_loss = pd.concat([_levels, valloss], axis=1).groupby('extension_levels').mean()\n",
    "\n",
    "# find best loss for each extension level (row)\n",
    "Y = mean_loss.to_numpy()\n",
    "X = mean_active.to_numpy()\n",
    "\n",
    "mask = np.all(np.isnan(X), axis=1)\n",
    "X, Y = X[~mask], Y[~mask]\n",
    "\n",
    "indices = np.nanargmin(Y, axis=1)\n",
    "rows = np.arange(indices.shape[0])\n",
    "\n",
    "y = Y[rows, indices]\n",
    "x = X[rows, indices]\n",
    "#plt.scatter(x,y, c=rows, cmap='plasma')\n",
    "cmap_red = LinearSegmentedColormap.from_list('', ['#D81B60', '#a60c0c'], N=len(rows))\n",
    "#plt.scatter(x,y, c=rows, cmap='spring')\n",
    "#plt.scatter(x,y, c=rows, cmap='spring')\n",
    "plt.scatter(x,y, color='red', label='best split', marker='^')\n",
    "plt.ylim([0, 0.0125])\n",
    "plt.legend()\n",
    "#plt.colorbar()\n",
    "plt.ylabel('validation loss')\n",
    "plt.xlabel('number of weights active')\n",
    "plt.savefig('results.svg')"
   ]
  },
  {
   "cell_type": "code",
   "execution_count": null,
   "metadata": {},
   "outputs": [],
   "source": [
    "plt.figure(figsize=(6,4))\n",
    "valloss = make_df_from_history(hc, 'val-loss', invert=False, drop_first=True)\n",
    "active = make_df_from_history(hc, 'active-weights-abs', invert=False, drop_first=True)\n",
    "potential = make_df_from_history(hc, 'untapped-potential', invert=False, drop_first=True)\n",
    "\n",
    "mean_active = pd.concat([_levels, active], axis=1).groupby('extension_levels').mean()\n",
    "mean_loss = pd.concat([_levels, valloss], axis=1).groupby('extension_levels').mean()\n",
    "\n",
    "# find best loss for each extension level (row)\n",
    "Y = mean_loss.to_numpy()\n",
    "X = mean_active.to_numpy()\n",
    "indices = np.nanargmin(Y, axis=1)\n",
    "rows = np.arange(indices.shape[0])\n",
    "\n",
    "y = Y[rows, indices]\n",
    "x = X[rows, indices]\n",
    "\n",
    "cmap_blue = LinearSegmentedColormap.from_list('', ['#1E88E5', '#3c1ee5'], N=len(rows))\n",
    "#plt.scatter(x,y, color='blue', label='best', alpha=0.6)\n",
    "#plt.scatter(x,y, c=rows, cmap='winter', label='best overall')\n",
    "#plt.colorbar()\n",
    "\n",
    "active = (potential == 0) * active\n",
    "active[active == 0] = np.nan\n",
    "valloss = (potential == 0) * valloss\n",
    "valloss[valloss == 0] = np.nan\n",
    "mean_active = pd.concat([_levels, active], axis=1).groupby('extension_levels').mean()\n",
    "mean_loss = pd.concat([_levels, valloss], axis=1).groupby('extension_levels').mean()\n",
    "\n",
    "# find best loss for each extension level (row)\n",
    "Y = mean_loss.to_numpy()\n",
    "X = mean_active.to_numpy()\n",
    "\n",
    "mask = np.all(np.isnan(X), axis=1)\n",
    "X, Y = X[~mask], Y[~mask]\n",
    "\n",
    "indices = np.nanargmin(Y, axis=1)\n",
    "rows = np.arange(indices.shape[0])\n",
    "\n",
    "y = Y[rows, indices]\n",
    "x = X[rows, indices]\n",
    "#plt.scatter(x,y, c=rows, cmap='plasma')\n",
    "#cmap_red = LinearSegmentedColormap.from_list('', ['#D81B60', '#a60c0c'], N=len(rows))\n",
    "#plt.scatter(x,y, c=rows, cmap='spring')\n",
    "plt.scatter(x,y, c=rows, cmap='winter')\n",
    "#plt.scatter(x,y, color='red', label='best split', marker='^')\n",
    "#plt.ylim([0, 0.0125])\n",
    "plt.legend()\n",
    "plt.colorbar()\n",
    "plt.ylabel('validation loss')\n",
    "plt.xlabel('number of weights active')\n",
    "plt.savefig('results.svg')"
   ]
  },
  {
   "cell_type": "code",
   "execution_count": null,
   "metadata": {},
   "outputs": [],
   "source": [
    "\n",
    "Y = mean_active.to_numpy()\n",
    "plt.imshow(Y)"
   ]
  },
  {
   "cell_type": "code",
   "execution_count": null,
   "metadata": {},
   "outputs": [],
   "source": [
    "\n",
    "for id in range(1,len(df_x.index)):\n",
    "    plt.scatter(df_x[id],df_y[id], c=df_x.index, cmap='plasma')\n",
    "    plt.colorbar() if id ==1 else None"
   ]
  },
  {
   "cell_type": "code",
   "execution_count": null,
   "metadata": {},
   "outputs": [],
   "source": [
    "\n",
    "cmap = plt.cm.get_cmap('PiYG', len(df_x.columns))  # Using 'viridis' colormap\n",
    "#plt.figure(figsize=(10, 6))\n",
    "fig, ax = plt.subplots()\n",
    "for i, column in enumerate(df_x.columns):\n",
    "    color = cmap(i)\n",
    "    cax = ax.scatter(df_x[column], df_y[column], c=[i]*len(df_y[column]), cmap=cmap, label=column)\n",
    "\n",
    "fig.colorbar(cax)\n",
    "plt.yscale('log')"
   ]
  },
  {
   "cell_type": "code",
   "execution_count": null,
   "metadata": {},
   "outputs": [],
   "source": [
    "df_x"
   ]
  },
  {
   "cell_type": "code",
   "execution_count": null,
   "metadata": {},
   "outputs": [],
   "source": [
    "_active_w = make_df_from_history(hc, 'active-weights-rel', invert=True, drop_first=True)\n",
    "_loss = make_df_from_history(hc, 'val-loss', invert=True, drop_first=True)\n",
    "\n",
    "df_loss = pd.concat([_levels, _loss], axis=1).groupby('extension_levels').mean()\n",
    "df_active_weights = pd.concat([_levels, _active_w], axis=1).groupby('extension_levels').mean()\n",
    "\n",
    "_active_w_abs = make_df_from_history(hc, 'active-weights-abs', invert=True, drop_first=True)\n",
    "df_active_weights_abs = pd.concat([_levels, _active_w_abs], axis=1).groupby('extension_levels').mean()"
   ]
  },
  {
   "cell_type": "markdown",
   "metadata": {},
   "source": [
    "# Hypothesis \n",
    "## 'Collateral Damage':\n",
    "for each p-level, there is 'collateral damage'. Some p-parameters are made inactive or zombious. -> the relative amount of active p-parameters decreases, the more p-levels there are.\n",
    "### How to test\n",
    "plot the relative amount of at each level, from each run. If it is true, each run with more levels should have less active p-parameters at the corresponding extension level. Because the networks have the same number of p-parameters at the corresponding levels the comparisson should be fair.\n",
    "\n",
    "Indeed, the more pruning iterations, generally decrease the percentage of active-weights in the network."
   ]
  },
  {
   "cell_type": "code",
   "execution_count": null,
   "metadata": {},
   "outputs": [],
   "source": [
    "df_active = make_df_from_history(hc, 'active-weights-rel', invert=True, drop_first=True)\n",
    "df = pd.concat([_shape, df_active], axis=1).groupby('model_shape').mean().reset_index()\n",
    "\n",
    "x = df['model_shape'].to_list()\n",
    "y = df[1].to_list()\n",
    "\n",
    "xticks = x\n",
    "xticks = xticks[0:1] + xticks[8:9] + xticks[14:15] + xticks[18:]\n",
    "xticklabels = xticks\n",
    "\n",
    "\n",
    "plt.scatter(x,y, label='% active of available weights')\n",
    "plt.xticks(xticks, xticklabels)\n",
    "plt.xlabel('hidden neurons per layer')\n",
    "plt.ylabel('% weights remaining')\n",
    "plt.legend()\n",
    "plt.savefig('collateral-damage.svg')\n",
    "plt.show()"
   ]
  },
  {
   "cell_type": "code",
   "execution_count": null,
   "metadata": {},
   "outputs": [],
   "source": [
    "df_active_weights"
   ]
  },
  {
   "cell_type": "code",
   "execution_count": null,
   "metadata": {},
   "outputs": [],
   "source": [
    "plt.plot(df_active_weights.T)"
   ]
  },
  {
   "cell_type": "code",
   "execution_count": null,
   "metadata": {},
   "outputs": [],
   "source": [
    "indices = [0, 6, 12, 18, 24]\n",
    "plt.plot(df_active_weights.iloc[indices].T, marker='o')\n",
    "plt.legend()\n",
    "plt.show()\n",
    "\n"
   ]
  },
  {
   "cell_type": "markdown",
   "metadata": {},
   "source": [
    "### Peak Performance\n",
    "The networks seem to reach peak performance around the same number of p-parameters"
   ]
  },
  {
   "cell_type": "code",
   "execution_count": null,
   "metadata": {},
   "outputs": [],
   "source": [
    "indices = df_active_weights_abs.index\n",
    "\n",
    "for i in indices:\n",
    "    x = df_active_weights_abs.loc[i]\n",
    "    y = df_loss.loc[i]\n",
    "    plt.plot(x,y, marker='', label=f'e={i}', alpha=0.4)\n",
    "    \n",
    "plt.xscale('log'), plt.yscale('log')\n",
    "# plt.legend()\n",
    "plt.show()"
   ]
  },
  {
   "cell_type": "markdown",
   "metadata": {},
   "source": [
    "### When do networks split\n",
    "and when do they degrade?\n",
    "Why do networks only start to degrade after 12 extension levels, and continue to do so when extending further?\n",
    "Lets look at the number of active parameters at the time they split and at the time they degrade.\n",
    "\n",
    "Do they split earlier, in terms of iteration and in terms of active weights?\n",
    "\n",
    "Results show some signs that tey split in earlier iterations, but not clearly. Could be noise as well.\n",
    "However, the more e-levels they have, the less active parameters the have when they split."
   ]
  },
  {
   "cell_type": "code",
   "execution_count": null,
   "metadata": {},
   "outputs": [],
   "source": [
    "group_df = _levels\n",
    "source_df = _first\n",
    "source_keys = [\n",
    "    'active-weights-abs', \n",
    "    'active-features-rel',  \n",
    "    'active-weights-rel',\n",
    "    'zombious-abs',\n",
    "    ]\n",
    "\n",
    "group = make_group(group_df, source_df, source_keys)\n",
    "\n",
    "for key in source_keys:\n",
    "    df = mean_std_from_group(group, key)\n",
    "    errorbar_from_df(df, label=key, marker='o', alpha=0.6)"
   ]
  },
  {
   "cell_type": "markdown",
   "metadata": {},
   "source": [
    "Do they degrade earlier?\n",
    "They clearly degrade with more p-parameters available, meaning they degrade in earlier iterations. However, the number of active parameters stays about the same, independent of the number of e-levels."
   ]
  },
  {
   "cell_type": "code",
   "execution_count": null,
   "metadata": {},
   "outputs": [],
   "source": [
    "group_df = _shape\n",
    "source_df = _first\n",
    "source_keys = ['pparams', 'active-weights-abs']\n",
    "\n",
    "group = make_group(group_df, source_df, source_keys)\n",
    "plt.figure(figsize=(10, 3)) \n",
    "\n",
    "df = mean_std_from_group(group, 'active-weights-abs').reset_index()\n",
    "plt.errorbar(\n",
    "    x=df['xticks'], \n",
    "    y=df['y'], \n",
    "    yerr=df['yerr'],\n",
    "    alpha=0.6,\n",
    "    marker='o',\n",
    "    label='active weights'\n",
    ")\n",
    "df = mean_std_from_group(group, 'pparams').reset_index()\n",
    "plt.errorbar(\n",
    "    x=df['xticks'], \n",
    "    y=df['y'], \n",
    "    yerr=df['yerr'],\n",
    "    alpha=0.6,\n",
    "    marker='o',\n",
    "    label='available weights'\n",
    ")\n",
    "\n",
    "plt.title('Extending the model')\n",
    "# x axis data\n",
    "xticks = np.arange(len(df.index))\n",
    "xticklabels = [f'{l}\\n{pr}' for l, pr in df['model_shape'].items()]\n",
    "\n",
    "plt.xticks(xticks, xticklabels)\n",
    "plt.xlabel('extension level\\nhidden dim', loc='left')\n",
    "plt.ylabel('number of parameters')\n",
    "plt.yscale('log')\n",
    "plt.legend()\n",
    "plt.grid(which='minor')\n",
    "plt.yticks(minor=True)\n",
    "plt.tight_layout()\n",
    "plt.savefig(\"extending-active-available.svg\")"
   ]
  },
  {
   "cell_type": "code",
   "execution_count": null,
   "metadata": {},
   "outputs": [],
   "source": [
    "active = pd.concat([_levels, _first['active-weights-abs']],axis=1).groupby('extension_levels').mean()\n",
    "plt.plot(active, label='active', marker='o', alpha=0.6)\n",
    "\n",
    "#active_features = pd.concat([_levels, _first['active-features-abs']],axis=1).groupby('extension_levels').mean()\n",
    "#plt.plot(active_features, label='features', marker='o', alpha=0.6)\n",
    "\n",
    "pparams = pd.concat([_levels, _first['pparams']],axis=1).groupby('extension_levels').mean()\n",
    "plt.plot(pparams, label='available', marker='o', alpha=0.6)\n",
    "\n",
    "plt.xticks(active.index)\n",
    "plt.legend()\n",
    "plt.yscale('log')\n",
    "plt.show()"
   ]
  },
  {
   "cell_type": "markdown",
   "metadata": {},
   "source": [
    "when Looking at weights and biases together, the Split networks actually are larger when increasing the e-level. this is mainly due to more biases in the network."
   ]
  },
  {
   "cell_type": "code",
   "execution_count": null,
   "metadata": {},
   "outputs": [],
   "source": [
    "fz = pd.concat([_levels, _first['active-abs']],axis=1).groupby('extension_levels').mean()\n",
    "plt.plot(fz, label='active parameters', marker='o', alpha=0.6)\n",
    "\n",
    "lz = pd.concat([_levels, _last['active-abs']],axis=1).groupby('extension_levels').mean()\n",
    "plt.plot(lz, label='active parameters', marker='o', alpha=0.6)\n",
    "\n",
    "plt.xticks(active.index)\n",
    "plt.legend()\n",
    "plt.show()"
   ]
  },
  {
   "cell_type": "markdown",
   "metadata": {},
   "source": [
    "# Can this be true?\n",
    "That there are 7 times the number of biases than weights ACTIVE in the network?"
   ]
  },
  {
   "cell_type": "code",
   "execution_count": null,
   "metadata": {},
   "outputs": [],
   "source": [
    "_first['active-features-abs'] / _first['active-weights-abs']\n",
    "fz = pd.concat([_levels, _first['active-features-abs'] / _first['active-weights-abs']],axis=1).groupby('extension_levels').mean()\n",
    "lz = pd.concat([_levels, _last['active-features-abs'] / _last['active-weights-abs']],axis=1).groupby('extension_levels').mean()\n",
    "plt.plot(lz, label='last weights / biases ratio', marker='o', alpha=0.6)\n",
    "plt.plot(fz, label='first weights / biases ratio', marker='o', alpha=0.6)\n",
    "\n",
    "plt.xticks(active.index)\n",
    "plt.legend()\n",
    "plt.show()"
   ]
  },
  {
   "cell_type": "code",
   "execution_count": null,
   "metadata": {},
   "outputs": [],
   "source": [
    "yfirst = pd.concat([_levels, _last['active-weights-rel']],axis=1).groupby('extension_levels').mean()\n",
    "ylast = pd.concat([_levels, _first['active-weights-rel']],axis=1).groupby('extension_levels').mean()\n",
    "\n",
    "plt.plot(yfirst, label='first', marker='o', alpha=0.6)\n",
    "plt.plot(ylast, label='last', marker='o', alpha=0.6)\n",
    "plt.legend()\n",
    "plt.show()"
   ]
  },
  {
   "cell_type": "code",
   "execution_count": null,
   "metadata": {},
   "outputs": [],
   "source": [
    "import matplotlib.pyplot as plt\n",
    "from matplotlib.colors import LogNorm\n",
    "# Plotting a heatmap with a logarithmic colorbar using matplotlib\n",
    "plt.figure(figsize=(8, 6))\n",
    "plt.imshow(data, cmap='tab20', aspect='auto', norm=LogNorm())\n",
    "plt.colorbar(label='Logarithmic Value')\n",
    "plt.xticks(ticks=range(data.shape[1]), labels=data.columns)\n",
    "plt.yticks(ticks=range(data.shape[0]), labels=data.index)\n",
    "plt.title(\"Heatmap of DataFrame (Logarithmic Scale)\")\n",
    "plt.show()"
   ]
  },
  {
   "cell_type": "code",
   "execution_count": null,
   "metadata": {},
   "outputs": [],
   "source": [
    "title='Collateral Damage'\n",
    "\n",
    "w_active = pd.DataFrame([h['active-weights-abs'] for h,_ in hc]).reset_index().drop(0, axis=1)\n",
    "df = pd.concat([_levels,w_active], axis=1).sort_values('extension_levels')"
   ]
  },
  {
   "cell_type": "code",
   "execution_count": null,
   "metadata": {},
   "outputs": [],
   "source": [
    "title='Extending the base model'\n",
    "\n",
    "ydf = pd.concat([_split, _levels], axis=1).groupby('extension_levels').sum()\n",
    "xdf = pd.concat([_shape, _levels], axis=1).drop_duplicates()\n",
    "xdf['xticklabels'] = xdf.apply(lambda df: f\"{df['extension_levels']}\\n{df['model_shape']}\", axis=1)\n",
    "xdf = xdf.sort_values('extension_levels').reset_index(drop=True)\n",
    "xdf['xticks'] = xdf.index\n",
    "\n",
    "fig, axes = plt.subplots(nrows=2, figsize=(16,9), sharey=True, sharex=False)\n",
    "fig.suptitle(title, fontweight='regular', fontsize=15, fontname='Helvetica')\n",
    "\n",
    "# plot the data\n",
    "ydf[splitters.keys()].plot.bar(\n",
    "    ax=axes[0],\n",
    "    width=0.95,  \n",
    "    color=splitters.values(),\n",
    "    rot=0,\n",
    "    stacked=True\n",
    ")\n",
    "ydf[nonsplitters.keys()].plot.bar(\n",
    "    ax=axes[1],\n",
    "    width=0.95,  \n",
    "    color=nonsplitters.values(),\n",
    "    rot=0,\n",
    "    stacked=True\n",
    ")\n",
    "\n",
    "for ax in axes:\n",
    "    ax.set_yticks(np.arange(np.max(ydf)+1))\n",
    "    ax.set_xticks(xdf['xticks'])\n",
    "    ax.set_xticklabels(xdf['xticklabels'], fontsize=10, color='gray')\n",
    "    ax.set_ylabel('num models', fontsize=14)\n",
    "    ax.set_xlabel('extensions\\nhidden-dim', fontsize=10, color='gray')\n",
    "    ax.xaxis.set_label_coords(0.0, -0.024)\n",
    "\n",
    "plt.tight_layout(\n",
    "    #rect=[0, 0.03, 1, 0.95]\n",
    ")\n",
    "set_style(axes)\n",
    "plt.savefig(\"hist.svg\")"
   ]
  },
  {
   "cell_type": "code",
   "execution_count": null,
   "metadata": {},
   "outputs": [],
   "source": []
  }
 ],
 "metadata": {
  "kernelspec": {
   "display_name": "Python 3",
   "language": "python",
   "name": "python3"
  },
  "language_info": {
   "codemirror_mode": {
    "name": "ipython",
    "version": 3
   },
   "file_extension": ".py",
   "mimetype": "text/x-python",
   "name": "python",
   "nbconvert_exporter": "python",
   "pygments_lexer": "ipython3",
   "version": "3.11.0"
  }
 },
 "nbformat": 4,
 "nbformat_minor": 2
}
