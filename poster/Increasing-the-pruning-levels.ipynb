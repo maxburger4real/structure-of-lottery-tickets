{
 "cells": [
  {
   "cell_type": "code",
   "execution_count": null,
   "metadata": {},
   "outputs": [],
   "source": [
    "%load_ext autoreload\n",
    "%autoreload 2\n",
    "import pandas as pd\n",
    "from utils import *\n",
    "import matplotlib.pyplot as plt\n",
    "\n",
    "plt.rcParams['font.family'] = 'Helvetica'"
   ]
  },
  {
   "cell_type": "code",
   "execution_count": null,
   "metadata": {},
   "outputs": [],
   "source": [
    "# del hc  # uncomment to reload \n",
    "try: print('Histories already loaded.') if hc else None\n",
    "except: hc = load_histories_and_configs(['ix4onq8c', '9cclxb43'])\n",
    "\n",
    "_split = make_split_df(hc)\n",
    "_levels = make_df(hc, 'pruning_levels')\n",
    "_pr = make_df(hc, 'pruning_rate')\n",
    "\n",
    "# average over the seeds via pruning_levels (sweep parameters)\n",
    "ydf = pd.concat([_split, _levels], axis=1).groupby('pruning_levels').sum()\n",
    "xdf = pd.concat([_pr, _levels], axis=1).groupby('pruning_levels').mean()"
   ]
  },
  {
   "cell_type": "code",
   "execution_count": null,
   "metadata": {},
   "outputs": [],
   "source": [
    "title='Increasing the pruning levels'\n",
    "description=(\n",
    "'''\n",
    "Fully connected network in the circles-moons dataset, with shape [4,410,410,2].\n",
    "Each run, the networks are pruned to the same pruning target of 112 weights.\n",
    "Increasing the pruning levels, decreases the pruning rate per level.\n",
    "'''\n",
    ")\n",
    "\n",
    "# Create figure and do general styling\n",
    "fig, axes = plt.subplots(nrows=len(ydf.columns), figsize=(16,9), sharey=True, sharex=False)\n",
    "fig.suptitle(title, fontweight='regular', fontsize=15, fontname='Helvetica')\n",
    "fig.text(0.5, 0.95, description, ha='center', va='top', fontsize=9, color=(0.1,0.1,0.1))\n",
    "\n",
    "# plot the data\n",
    "ydf.plot.bar(\n",
    "    ax=axes,\n",
    "    subplots=True,\n",
    "    width=0.95,  \n",
    "    alpha=0.8,\n",
    "    colormap='viridis',\n",
    "    rot=0,\n",
    ")\n",
    "\n",
    "# x axis data\n",
    "xticks = np.arange(len(xdf.index))\n",
    "xticklabels = [f'{l}\\n{pr*100:.1f}%' for l, pr in xdf['pruning_rate'].items()]\n",
    "\n",
    "for ax in axes:\n",
    "    ax.set_yticks(np.arange(np.max(ydf)+1))\n",
    "    ax.set_xticks(xticks)\n",
    "    ax.set_xticklabels(xticklabels, fontsize=9, color='gray')\n",
    "    ax.set_ylabel('num models', fontsize=9)\n",
    "    #ax.set_ylabel('models', fontsize=9, rotation=0)\n",
    "    #ax.yaxis.set_label_coords(-0.01, 1)\n",
    "    ax.set_xlabel('p-levels\\np-rate', fontsize=9, color='gray')\n",
    "    ax.xaxis.set_label_coords(0.0, -0.087)\n",
    "\n",
    "plt.tight_layout(rect=[0, 0.03, 1, 0.95])\n",
    "set_style(axes)"
   ]
  }
 ],
 "metadata": {
  "kernelspec": {
   "display_name": "Python 3",
   "language": "python",
   "name": "python3"
  },
  "language_info": {
   "codemirror_mode": {
    "name": "ipython",
    "version": 3
   },
   "file_extension": ".py",
   "mimetype": "text/x-python",
   "name": "python",
   "nbconvert_exporter": "python",
   "pygments_lexer": "ipython3",
   "version": "3.11.0"
  }
 },
 "nbformat": 4,
 "nbformat_minor": 2
}
